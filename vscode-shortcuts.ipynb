{
 "cells": [
  {
   "cell_type": "markdown",
   "metadata": {},
   "source": [
    "# VSCode shortcuts\n",
    "\n",
    "- `alt` + `[number]`: change tabs\n",
    "- `ctrl` + `p`, then type: change tabs\n",
    "- `ctrl` + `w`, close tab\n",
    "- `ctrl` + `k` + `w`: close all tabs\n",
    "- `ctrl` + `b`: get rid of sidebar\n",
    "- `ctrl` + `\\`: split into two terminals\n",
    "- `ctrl` + `x`: delete lines fast! without highlighting\n",
    "- `ctrl` + `c`/`v`: copy line without highlighting\n",
    "- `ctrl` + `h`: highlight the same thing\n",
    "- `ctrl` + `shift` + `o`: gives an `@` \n",
    "- `ctrl` + `g`: go to line"
   ]
  },
  {
   "cell_type": "markdown",
   "metadata": {},
   "source": [
    "# Second markdown cell"
   ]
  },
  {
   "cell_type": "markdown",
   "metadata": {},
   "source": [
    "# third markdown cell"
   ]
  },
  {
   "cell_type": "markdown",
   "metadata": {},
   "source": [
    "# fourth markdown cell"
   ]
  },
  {
   "cell_type": "code",
   "execution_count": null,
   "metadata": {},
   "outputs": [],
   "source": []
  }
 ],
 "metadata": {
  "kernelspec": {
   "display_name": "Python 3",
   "language": "python",
   "name": "python3"
  },
  "language_info": {
   "name": "python",
   "version": "undefined.undefined.undefined"
  }
 },
 "nbformat": 4,
 "nbformat_minor": 2
}
