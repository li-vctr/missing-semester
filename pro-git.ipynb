{
 "cells": [
  {
   "cell_type": "markdown",
   "metadata": {},
   "source": [
    "# Notes from progit book\n",
    "\n",
    "### `git config` variables\n",
    "- `--system`: `[path]/etc/gitconfig`, all users\n",
    "- `--global`: `~/.gitconfig`, current user\n",
    "- `--local`: `.git/config`, current repo\n",
    "- Priority: local, global, system\n",
    "- Identity: `git config --global user.name \"victor\"`, `git config --global user.email \"v@google.com\"`\n",
    "- Editor: `git config --global core.editor vim`\n",
    "- `git config --global init.defaultBranch main`\n",
    "- `git config --list`\n",
    "- `git config --global credential.helper cache`. Put in store mode.\n",
    "\n",
    "### `git diff`\n",
    "- `git diff --staged` or `git diff --cached`: compares your staged changes to your last commit\n",
    "- `git diff`: shows changes that are still unstaged\n",
    "\n",
    "### Removing Files\n",
    "- `git rm [file]`: remove a file from tracked files. This is if the file is already in a commit and you want to take it out of the next commit.\n",
    "- `git rm --cached README`: keep `README` in working tree but removes it from the staging area (so git doesn't track anymore)\n",
    "- To move files, do `git mv README.md README`. Equivalent to `mv README.md README ; git rm README.md ; git add README`\n",
    "\n",
    "### Viewing the Commit History\n",
    "- `git log --pretty=oneline`, or `short`, `full`, or `fuller`\n",
    "- Can also specify format, see manual\n",
    "- `git log --graph`: branch and merge history\n",
    "- `git log --since=2.weeks`\n",
    "- `git log -S function_name`: find the last commit that added or removed a reference to a specific function\n",
    "- `git log -- path/to/file`: limit the log output to commits that introduced a change to those files\n",
    "\n",
    "### Undoing Things\n",
    "- Committing too early: to redo the commit, make the additional changes you forgot, stage them, and commit again using the `--amend` option. Only amend commits that are still local!\n",
    "- Unstage specific files: See `git status`. `git restore HEAD <file>`\n",
    "- Unmodify a modified file: See `git status`. `git checkout -- <file>`\n",
    "\n",
    "### Working with remotes\n",
    "- `git remote -v`: see which remote you're communicating with\n",
    "- `git remote add <origin-name> <url>`\n",
    "- `git fetch <origin-name>`: pulls all branches from the remote\n",
    "- `git push origin master`\n",
    "- `git remote show origin`: shows info\n",
    "- Renaming remote: `git remote rename pb paul`\n",
    "\n",
    "### Tagging\n",
    "- Creating an annotated (better than lightweight) tag (for versioning): `git tag -a v1.4 [commit] -m \"my version 1.4\"`. Check with `git show`. Then push to a remote server using `git push origin <tagname>`.\n",
    "- Deleting a tag: `git tag -d v1.4`. Push with `git push origin --delete <tagname>`\n",
    "\n",
    "### Detached head state\n",
    "- If you make changes and then create a commit, the new commit won't belong to any branch and will be unreachable, except by the exact commit hash.\n",
    "\n",
    "### Aliases\n",
    "- `git config --global alias.unstage 'reset HEAD --'`: `git unstage ...` and `git reset HEAD -- ...` are now functionally equivalent.\n",
    "\n",
    "### Rebasing\n",
    "- In Git, there are two main ways to integrate changes from one branch into another: `merge` and `rebase`.\n",
    "- **Do not rebase commits that exist ouside your repo and that people may have based work on.**\n",
    "- Really bad if someone pushes rebased commits, abandoning commits you've based your work on. Can try `git pull --rebase`. Or manually as `git fetch` followed by a `git rebase teamone/master`\n"
   ]
  },
  {
   "cell_type": "markdown",
   "metadata": {},
   "source": [
    "# Branching\n",
    "\n",
    "### Deleting\n",
    "- `git branch -d <branch>`\n",
    "\n",
    "### Branch management\n",
    "- More info on branch: `git branch -v`\n",
    "- Which branches are merged into current branch: `git branch --merge`\n",
    "- Changing a branch name: don't do it if it's still in use by other collaborators or rename a branch like master/main/mainline etc.\n",
    "- Changing a branch name: `git branch --move bad-branch-name corrected-branch-name`; then `git push --set-upstream origin corrected-branch-name`; then `git push origin --delete bad-branch-name`\n",
    "\n",
    "### Branching Workflows\n",
    "- Long-running branches: several branches at different stages in dev cycle\n",
    "- Topic branches: a short-lived branch that you create and use for a single particular feature or related work\n",
    "\n",
    "### Remote Branches\n",
    "- `git ls-remote <remote>`: full list of remote references"
   ]
  },
  {
   "cell_type": "markdown",
   "metadata": {},
   "source": [
    "# Workflows\n",
    "\n",
    "Possible workflows\n",
    "- centralized\n",
    "- integration-manager - one middle-man\n",
    "- director and lieutenants - two middle mans\n",
    "### Centralized workflow\n",
    "### Integration-manager workflow\n"
   ]
  },
  {
   "cell_type": "markdown",
   "metadata": {},
   "source": []
  }
 ],
 "metadata": {
  "language_info": {
   "name": "python"
  }
 },
 "nbformat": 4,
 "nbformat_minor": 2
}
