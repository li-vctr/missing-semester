{
 "cells": [
  {
   "cell_type": "markdown",
   "metadata": {},
   "source": [
    "# The Missing Semester to Your CS Education\n",
    "[link](https://missing.csail.mit.edu/)"
   ]
  },
  {
   "cell_type": "markdown",
   "metadata": {},
   "source": [
    "## Lecture 1: The Shell\n",
    "\n",
    "Shell: bash\n",
    "\\[name\\]@\\[machine\\] \\[path\\]\n",
    "\n",
    "The shell looks for programs through environment variables. In Mac and Linux, it's just a root directory. In Windows, there are several drive partitions, and it depends which partition you're in, e.g. C and D drive.\n",
    "- `echo $SHELL`\n",
    "- `cd -` toggles between directories\n",
    "- `ls -l` full info: directory permissions `chmod`\n",
    "- `<` and `>`, `>>` pushes to the location\n",
    "- root user (user id 0): the super-user, use `sudo`\n",
    "- `#` means root user\n",
    "- `echo 1060 | sudo tee brightness`: man changes his screen brightness\n",
    "- `curl --head --silent google.com | grep --ignore-case content-length | cut --delimiter=' ' -f2`\n",
    "- `find -L ./datasets -maxdepth 4 -name '*1991*'`\n",
    "\n",
    "Where is conda?\n",
    "- `conda`: No such file or directory\n",
    "- `which conda`: /c/Users/vhli2/anaconda3/Scripts/conda\n",
    "- Issue seems to be with the Git Bash integration w/ VSCode. I may have multiple versions of Git Bash.\n",
    "- `conda` installation / activation works fine with command prompt and Git Bash outside VSCode"
   ]
  },
  {
   "cell_type": "markdown",
   "metadata": {},
   "source": [
    "## Lecture 2\n",
    "- Variable assignment: `foo=bar`\n",
    "- Executing the program `foo`: `foo = bar`\n",
    "- Single quotes = print verbatim, double quotes = evaluate. `echo \"$foo\"` (actually substitutes) vs `echo '$foo'`\n",
    "- `tmp/missing/mcd.sh`\n",
    "- `$0` to `$9`\n",
    "- `$#` - number of arguments\n",
    "- `$_`: access last argument of last command\n",
    "- `!!`: execute the last command, can do `sudo !!` if permission denied\n",
    "- `$@`, `$?`, `$$`, `sudo !!`, `$_`\n",
    "\n",
    "Storing results in variables\n",
    "- **Command substitution**: `echo \"We are in $(pwd)\"`\n",
    "- `for file in $(ls)`\n",
    "- Show this and parent directory: `cat <(ls) <(ls ..)`\n",
    "- **Process substitution**: `<( CMD )`: `diff <(ls foo) <(ls bar)` shows the difference btwn files in directories\n",
    "- Blobbing: `ls *.sh`, ls anything that has .sh as the end\n",
    "- `rm project?`: rm anything w/ project and one more character\n",
    "- `echo foo{,1,2,10}`: same as `echo foo foo1 foo2 foo10`\n",
    "- Convert png to jpg: `convert image.{png,jpg}`\n",
    "\n",
    "Python\n",
    "- In the first line, `#!/usr/bin/env python` tells the bash to run the Python script using the Python program\n",
    "\n",
    "find is OP\n",
    "```\n",
    "# Find all directories named src\n",
    "find . -name src -type d\n",
    "# Find all python files that have a folder named test in their path\n",
    "find . -path '*/test/*.py' -type f\n",
    "# Find all files modified in the last day\n",
    "find . -mtime -1\n",
    "# Find all zip files with size in range 500k to 10M\n",
    "find . -size +500k -size -10M -name '*.tar.gz'\n",
    "```\n",
    "\n",
    "```\n",
    "# Delete all files with .tmp extension\n",
    "find . -name '*.tmp' -exec rm {} \\;\n",
    "# Find all PNG files and convert them to JPG\n",
    "find . -name '*.png' -exec convert {} {}.jpg \\;\n",
    "```\n",
    "\n",
    "locate: `locate` uses a compiled some sort of index / database for quickly searching\n",
    "\n",
    "`tree`\n",
    "\n",
    "The `xargs` command executes a command using STDIN as arguments. For example, `ls | xargs rm` deletes the files in the current directory.\n",
    "\n",
    "\n",
    "wsl\n",
    "- `sudo su` to go into admin mode\n",
    "- create aliases for python, pip, and conda in the `~/.bashrc` script"
   ]
  },
  {
   "cell_type": "markdown",
   "metadata": {},
   "source": [
    "## Lecture 3\n",
    "\n",
    "normal mode\n",
    "- normal \\<ESC\\> <--> i insert\n",
    "- R replace mode\n",
    "- V visual mode\n",
    "- S-V visual-line\n",
    "- C-V visual-block\n",
    "- : command-line mode \n",
    "- ^V = Ctrl-V = \\<C-V\\>\n",
    "\n",
    "counts, modifiers"
   ]
  },
  {
   "cell_type": "markdown",
   "metadata": {
    "vscode": {
     "languageId": "plaintext"
    }
   },
   "source": [
    "# Lecture 4: Data Wrangling\n",
    "\n",
    "- Regex\n",
    "- `sed`: wrangles data based on a Regex\n",
    "- `sort`, `uniq`: sort, unique\n",
    "- `awk`: columnar operations on data\n",
    "\n",
    "Two types of wrangling\n",
    "- Command-line wrangling: something produces a list of arguments, can run through xargs on each argument\n",
    "- Binary data wrangling: videos, images, etc."
   ]
  },
  {
   "cell_type": "markdown",
   "metadata": {},
   "source": [
    "# Lecture 5: Command-line Environment\n",
    "- Job control\n",
    "- Terminal multiplexers\n",
    "- Dotfiles\n",
    "- Efficiently work with remote machines\n",
    "\n",
    "Job control: signals that can be sent\n",
    "- `SIGHUP` - terminal line hangup (i.e. delete terminal)\n",
    "- `SIGINT` - interrupt a program (Ctrl-C)\n",
    "- `SIGQUIT` - quit program\n",
    "- `SIGTERM` - software termination signal\n",
    "- My `^\\` doesn't work\n",
    "\n",
    "Terminal multiplexers: `tmux`\n",
    "- Three core concepts\n",
    "- Sessions\n",
    "- Sessions have windows (like tabs)\n",
    "- Windows have panes\n",
    "\n",
    "Dotfile\n",
    "- Aliases: command built into the shell that remaps a source sequence of characters into a longer sequence\n",
    "- Default flag ex.: `alias ll=\"ls -lah\"`\n",
    "- Shorten long strings ex.: `alias gs=\"git status\"`\n",
    "- `alias ll`: prints out what the alias is\n",
    "- How do you persist the aliases in your current environment? \n",
    "- `~/.bashrc` and `~/.vimrc` are configuration files\n",
    "- Can search **dotfiles** on github\n",
    "- Pro tip: Create a `dotfiles` folder in the home directory. Create symbolic links, **symlinks**, in the default `~/.bashrc` and `~/.vimrc` files that link to files in the `dotfiles` folder\n",
    "\n",
    "Remote machines: `ssh`, secure shell\n"
   ]
  },
  {
   "cell_type": "markdown",
   "metadata": {},
   "source": []
  }
 ],
 "metadata": {
  "kernelspec": {
   "display_name": "pydatabook",
   "language": "python",
   "name": "python3"
  },
  "language_info": {
   "name": "python",
   "version": "3.10.14"
  }
 },
 "nbformat": 4,
 "nbformat_minor": 2
}
