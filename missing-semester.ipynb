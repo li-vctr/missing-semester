{
 "cells": [
  {
   "cell_type": "markdown",
   "metadata": {},
   "source": [
    "# The Missing Semester to Your CS Education\n",
    "[link](https://missing.csail.mit.edu/)"
   ]
  },
  {
   "cell_type": "markdown",
   "metadata": {},
   "source": [
    "## Lecture 1: The Shell\n",
    "\n",
    "Shell: bash\n",
    "\\[name\\]@\\[machine\\] \\[path\\]\n",
    "\n",
    "The shell looks for programs through environment variables. In Mac and Linux, it's just a root directory. In Windows, there are several drive partitions, and it depends which partition you're in, e.g. C and D drive.\n",
    "- `echo $SHELL`\n",
    "- `cd -` toggles between directories\n",
    "- `ls -l` full info: directory permissions `chmod`\n",
    "- `<` and `>`, `>>` pushes to the location\n",
    "- root user (user id 0): the super-user, use `sudo`\n",
    "- `#` means root user\n",
    "- `echo 1060 | sudo tee brightness`: man changes his screen brightness\n",
    "- `curl --head --silent google.com | grep --ignore-case content-length | cut --delimiter=' ' -f2`\n",
    "- `find -L ./datasets -maxdepth 4 -name '*1991*'`\n",
    "\n",
    "Where is conda?\n",
    "- `conda`: No such file or directory\n",
    "- `which conda`: /c/Users/vhli2/anaconda3/Scripts/conda\n",
    "- Issue seems to be with the Git Bash integration w/ VSCode. I may have multiple versions of Git Bash.\n",
    "- `conda` installation / activation works fine with command prompt and Git Bash outside VSCode"
   ]
  },
  {
   "cell_type": "markdown",
   "metadata": {},
   "source": [
    "## Lecture 2\n",
    "- Variable assignment: `foo=bar`\n",
    "- Executing the program `foo`: `foo = bar`\n",
    "- Single quotes = print verbatim, double quotes = evaluate. `echo \"$foo\"` (actually substitutes) vs `echo '$foo'`\n",
    "- `tmp/missing/mcd.sh`\n",
    "- `$0` to `$9`\n",
    "- `$#` - number of arguments\n",
    "- `$_`: access last argument of last command\n",
    "- `!!`: execute the last command, can do `sudo !!` if permission denied\n",
    "- `$@`, `$?`, `$$`, `sudo !!`, `$_`\n",
    "\n",
    "Storing results in variables\n",
    "- **Command substitution**: `echo \"We are in $(pwd)\"`\n",
    "- `for file in $(ls)`\n",
    "- Show this and parent directory: `cat <(ls) <(ls ..)`\n",
    "- **Process substitution**: `<( CMD )`: `diff <(ls foo) <(ls bar)` shows the difference btwn files in directories\n",
    "- Blobbing: `ls *.sh`, ls anything that has .sh as the end\n",
    "- `rm project?`: rm anything w/ project and one more character\n",
    "- `echo foo{,1,2,10}`: same as `echo foo foo1 foo2 foo10`\n",
    "- Convert png to jpg: `convert image.{png,jpg}`\n",
    "\n",
    "Python\n",
    "- In the first line, `#!/usr/bin/env python` tells the bash to run the Python script using the Python program\n",
    "\n",
    "find is OP\n",
    "```\n",
    "# Find all directories named src\n",
    "find . -name src -type d\n",
    "# Find all python files that have a folder named test in their path\n",
    "find . -path '*/test/*.py' -type f\n",
    "# Find all files modified in the last day\n",
    "find . -mtime -1\n",
    "# Find all zip files with size in range 500k to 10M\n",
    "find . -size +500k -size -10M -name '*.tar.gz'\n",
    "```\n",
    "\n",
    "```\n",
    "# Delete all files with .tmp extension\n",
    "find . -name '*.tmp' -exec rm {} \\;\n",
    "# Find all PNG files and convert them to JPG\n",
    "find . -name '*.png' -exec convert {} {}.jpg \\;\n",
    "```\n",
    "\n",
    "locate: `locate` uses a compiled some sort of index / database for quickly searching\n",
    "\n",
    "`tree`\n",
    "\n",
    "The `xargs` command executes a command using STDIN as arguments. For example, `ls | xargs rm` deletes the files in the current directory.\n",
    "\n",
    "\n",
    "wsl\n",
    "- `sudo su` to go into admin mode\n",
    "- create aliases for python, pip, and conda in the `~/.bashrc` script"
   ]
  },
  {
   "cell_type": "markdown",
   "metadata": {},
   "source": [
    "## Lecture 3\n",
    "\n",
    "normal mode\n",
    "- normal \\<ESC\\> <--> i insert\n",
    "- R replace mode\n",
    "- V visual mode\n",
    "- S-V visual-line\n",
    "- C-V visual-block\n",
    "- : command-line mode \n",
    "- ^V = Ctrl-V = \\<C-V\\>\n",
    "\n",
    "counts, modifiers"
   ]
  },
  {
   "cell_type": "markdown",
   "metadata": {
    "vscode": {
     "languageId": "plaintext"
    }
   },
   "source": [
    "# Lecture 4: Data Wrangling\n",
    "\n",
    "- Regex\n",
    "- `sed`: wrangles data based on a Regex\n",
    "- `sort`, `uniq`: sort, unique\n",
    "- `awk`: columnar operations on data\n",
    "\n",
    "Two types of wrangling\n",
    "- Command-line wrangling: something produces a list of arguments, can run through xargs on each argument\n",
    "- Binary data wrangling: videos, images, etc."
   ]
  },
  {
   "cell_type": "markdown",
   "metadata": {},
   "source": [
    "# Lecture 5: Command-line Environment\n",
    "- Job control\n",
    "- Terminal multiplexers\n",
    "- Dotfiles\n",
    "- Efficiently work with remote machines\n",
    "\n",
    "Job control: signals that can be sent\n",
    "- `SIGHUP` - terminal line hangup (i.e. delete terminal)\n",
    "- `SIGINT` - interrupt a program (Ctrl-C)\n",
    "- `SIGQUIT` - quit program\n",
    "- `SIGTERM` - software termination signal\n",
    "- My `^\\` doesn't work\n",
    "\n",
    "Terminal multiplexers: `tmux`\n",
    "- Three core concepts\n",
    "- Sessions\n",
    "- Sessions have windows (like tabs)\n",
    "- Windows have panes\n",
    "\n",
    "Dotfile\n",
    "- Aliases: command built into the shell that remaps a source sequence of characters into a longer sequence\n",
    "- Default flag ex.: `alias ll=\"ls -lah\"`\n",
    "- Shorten long strings ex.: `alias gs=\"git status\"`\n",
    "- `alias ll`: prints out what the alias is\n",
    "- How do you persist the aliases in your current environment? \n",
    "- `~/.bashrc` and `~/.vimrc` are configuration files\n",
    "- Can search **dotfiles** on github\n",
    "- Pro tip: Create a `dotfiles` folder in the home directory. Create symbolic links, **symlinks**, in the default `~/.bashrc` and `~/.vimrc` files that link to files in the `dotfiles` folder\n",
    "\n",
    "Remote machines: `ssh`, secure shell\n"
   ]
  },
  {
   "cell_type": "markdown",
   "metadata": {},
   "source": [
    "# Lecture 6: Version-Control System\n",
    "- Git models history as a collection of files and folders within a level of some top-level directory (root). \n",
    "- Git uses a **directed acyclic graph** to model history.\n",
    "- Parents are the previous snapshot. When you **merge**, the node points back to the snapshots that creates the merge.\n",
    "\n",
    "What data structure underlies git?\n",
    "\n",
    "Pointers\n",
    "- `type blob = array<byte>`\n",
    "- `type tree = map<string, tree|blob>`\n",
    "- `type commit = struct { parents: array<commit>, author: string, message: string, snapshot: tree }`\n",
    "\n",
    "Actual data\n",
    "- `type object = blob|tree|commit`\n",
    "- `objects = map<string, object>`\n",
    "- A store function uses sha1 to compute an id and stores the `object` into `objects`. A load function returns the `object` from an `id` key.\n",
    "- `references = map<string, string>` allow naming a snapshot/node.\n",
    "\n",
    "Some commands\n",
    "- `git checkout`: lets you move around in version history\n",
    "- `git diff`: compare differences"
   ]
  },
  {
   "cell_type": "markdown",
   "metadata": {},
   "source": [
    "# Lecture 7, Debugging and Profiling\n",
    "\n",
    "### Debugging\n",
    "- Python: `mypy` and `flake8`, newer tools?\n",
    "- `pdb`\n",
    "\n",
    "### Profiling\n",
    "- Real time: wall clock elapsed time from start to finish of the program, including the time taken by other processes and time taken while blocked (e.g. waiting for I/O or network)\n",
    "- User: amount of time spent in the CPU running user code\n",
    "- Sys: amount of time spent in the CPU running kernel code\n",
    "- Generally **User + Sys** tells you how much time your process actually spent in the CPU\n",
    "\n",
    "Most of the time when people refer to profilers they actually mean *CPU profilers*. Two types\n",
    "- Tracing: keep a record of every function call your program makes\n",
    "- Sampling: probe your program periodically (e.g., every millisecond) and record the program's stack\n",
    "- In Python, use the `cProfile` module to profile time per function call, e.g. `python -m cProfile -s tottime grep.py`\n",
    "\n",
    "Other debuggers/profilers\n",
    "- `perf` reports events outside the code, e.g., stalled cycles, page faults, etc.\n",
    "- flame graph, call graph\n",
    "\n",
    "Resource monitoring\n",
    "- `htop` to monitor system usage\n",
    "- `hyperfine`"
   ]
  },
  {
   "cell_type": "markdown",
   "metadata": {},
   "source": [
    "# Lecture 8, Metaprogramming\n",
    "The process surrounding programming.\n",
    "\n",
    "### Build systems\n",
    "If you write a paper in LaTeX, what are the commands you need to run to produce your paper? What about the ones used to run your benchmarks, plot them, and then insert that plot into your paper?\n",
    "\n",
    "You're writing XXX, and you have a sequence of commands that you have to run to build it. A build system encodes these commands into a tool that you can use.\n",
    "\n",
    "- Targets: things you want to build\n",
    "- Dependencies: things that you need to build the targets\n",
    "- Rules: how to go from dependencies to target\n",
    "\n",
    "### `make`\n",
    "- `make` is a tool that can be found in essentially any system. Not great to very complex software. Great for simple or medium-complexity software.\n",
    "- `make` searches in the current directory for a file called `Makefile`\n",
    "\n",
    "In make, `%` means wildcard.\n",
    "\n",
    "### Versioning\n",
    "- `8.1.7`: major, minor, patch\n",
    "- Patch: if the change you made is entirely backwards-compatible; externally, nothing changes; e.g. security fixes\n",
    "- Minor: add something, next is `8.2.0`, code dependencies should still work on these\n",
    "- Major: you make a backwards-incompatible change such as moving/renaming a function\n",
    "- Lock files: a file that lists the exact version you are currently depending on of each dependency\n",
    "- Another reason is to get reproducible builds.\n",
    "- Vendoring: you copy all the coe of your dependencies into your own project; means you have to explicitly pull in any updates from the upstream maintainers over time\n",
    "\n",
    "### Continuous integration systems\n",
    "- A cloud-build system\n",
    "- Project stored in the internet somewhere; set up a service that runs an ongoing service that uses the project; e.g., release a library to PyPI whenever you push to a branch, run a test suite whenever someone submits a pull request, check code style whenever you commit. These are **event-triggered actions**.\n",
    "- e.g., class website is set up using GitHub Pages. Every push to master runs the Jekyll blog software and makes the built site available on a particular GitHub domain.\n",
    "- `dependabot`: updates dependency file\n",
    "- Test suite: all of the tests in the program\n",
    "- Unit test: small, self-contained test on a single feature, a \"micro-test\"\n",
    "- Integration test: test interactions between subsystems of a program\n",
    "- Regression test: test things that are broken in the past\n",
    "- Mocking: replace a module with a dummy version\n"
   ]
  },
  {
   "cell_type": "markdown",
   "metadata": {},
   "source": []
  },
  {
   "cell_type": "markdown",
   "metadata": {},
   "source": [
    "# Lecture 10: Potpourri\n",
    "- Keyboard re-mapping\n",
    "- Daemons: tools running in the background, generally ends in `d`, e.g. `ssh` on a remote server\n",
    "- `crond` already runs scheduled task, use `cron`\n",
    "- FUSE: file systems in user space\n",
    "- Backups\n",
    "- API: JSON, curl, authentication token (OAuth) - look at documentation\n",
    "- Command-line arguments\n",
    "- Floating window manager\n",
    "- VPNs: change internet service provider, negative view\n",
    "- Markdown: works on Facebook messenger?\n",
    "- Hammerspoon: auto-instantiate your windows layout, auto-mute speaker\n",
    "- Booting + Live USBs\n",
    "- Docker, Vagrant, VMs, Cloud OpenStack\n",
    "- Notebook programming\n",
    "- GitHub"
   ]
  },
  {
   "cell_type": "markdown",
   "metadata": {},
   "source": []
  },
  {
   "cell_type": "markdown",
   "metadata": {
    "vscode": {
     "languageId": "plaintext"
    }
   },
   "source": [
    "# Lecture 9, Security and Cryptography\n"
   ]
  },
  {
   "cell_type": "markdown",
   "metadata": {},
   "source": [
    "# Lecture 10/11: Potpourri and Q&A"
   ]
  },
  {
   "cell_type": "markdown",
   "metadata": {},
   "source": []
  }
 ],
 "metadata": {
  "kernelspec": {
   "display_name": "pydatabook",
   "language": "python",
   "name": "python3"
  },
  "language_info": {
   "name": "python",
   "version": "3.10.14"
  }
 },
 "nbformat": 4,
 "nbformat_minor": 2
}
