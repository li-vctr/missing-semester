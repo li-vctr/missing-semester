{
 "cells": [
  {
   "cell_type": "markdown",
   "metadata": {},
   "source": [
    "# Exercises"
   ]
  },
  {
   "cell_type": "markdown",
   "metadata": {},
   "source": [
    "Change Powershell to default load up wsl: [link](https://learn.microsoft.com/en-us/powershell/module/microsoft.powershell.core/about/about_profiles?view=powershell-7.4)\n",
    "- vim works on the Powershell\n",
    "\n",
    "Faster window-switching and F-key functionality: [link](https://unacademy.com/content/kerala-psc/study-material/computer-word-processing/shortcut-keys-function-keys/)"
   ]
  },
  {
   "cell_type": "markdown",
   "metadata": {},
   "source": [
    "# Lecture 1 Shell, 7/9/2024\n",
    "1. `echo $SHELL`: `\\bin\\bash`\n",
    "2. through 10. curl missing-semester and write its last modified date to file: `./semester | grep --ignore-case last-modified | cut --delimiter=' ' -f2- > last-modified.txt`\n",
    "11. CPU temp: [baeldung](https://www.baeldung.com/linux/cpu-temperature). No `thermal_zone` directory in the `/sys/class` folder\n"
   ]
  },
  {
   "cell_type": "markdown",
   "metadata": {},
   "source": [
    "# Lecture 2 Shell 2, 7/9/2024\n",
    "1. `ls -alt`: `t` sorts by recency\n",
    "2. Create a function: `mcd () { ... }`, then `source mcd.sh`, then run\n",
    "3. See `examine.sh` examining program `error_prone.sh`\n",
    "4. `find . -name \"*.html\" | xargs -d \"\\n\" tar czf ./target.tar.gz   `"
   ]
  },
  {
   "cell_type": "markdown",
   "metadata": {},
   "source": [
    "# Lecture 3 Vim, 7/9/2024\n",
    "\n",
    "- Installed PowerToys and changed keyboard binding of Esc functionality to CapsLock, and vice versa.\n",
    "- Downloaded Vimium\n",
    "- Finished Vimium tutorial"
   ]
  },
  {
   "cell_type": "markdown",
   "metadata": {},
   "source": [
    "# Lecture 4 Data Wrangling, 7/9/2024"
   ]
  },
  {
   "cell_type": "markdown",
   "metadata": {
    "vscode": {
     "languageId": "plaintext"
    }
   },
   "source": [
    "# Lecture 5 Command-Line Environment\n",
    "- Change editor-terminal keybindings in `AppData/Roaming/Code/User/keybindings.json` to respond to ^Up and ^Down"
   ]
  },
  {
   "cell_type": "markdown",
   "metadata": {},
   "source": []
  }
 ],
 "metadata": {
  "language_info": {
   "name": "python"
  }
 },
 "nbformat": 4,
 "nbformat_minor": 2
}
