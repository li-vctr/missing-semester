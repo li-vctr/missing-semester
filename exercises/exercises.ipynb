{
 "cells": [
  {
   "cell_type": "markdown",
   "metadata": {},
   "source": [
    "# Exercises"
   ]
  },
  {
   "cell_type": "markdown",
   "metadata": {},
   "source": [
    "Change Powershell to default load up wsl: [link](https://learn.microsoft.com/en-us/powershell/module/microsoft.powershell.core/about/about_profiles?view=powershell-7.4)\n",
    "- vim works on the Powershell\n",
    "\n",
    "Faster window-switching and F-key functionality: [link](https://unacademy.com/content/kerala-psc/study-material/computer-word-processing/shortcut-keys-function-keys/)"
   ]
  },
  {
   "cell_type": "markdown",
   "metadata": {},
   "source": [
    "# Lecture 1 Shell, 7/9/2024\n",
    "1. `echo $SHELL`: `\\bin\\bash`\n",
    "2. through 10. curl missing-semester and write its last modified date to file: `./semester | grep --ignore-case last-modified | cut --delimiter=' ' -f2- > last-modified.txt`\n",
    "11. CPU temp: [baeldung](https://www.baeldung.com/linux/cpu-temperature). No `thermal_zone` directory in the `/sys/class` folder\n"
   ]
  },
  {
   "cell_type": "markdown",
   "metadata": {},
   "source": [
    "# Lecture 2 Shell 2, 7/9/2024\n",
    "1. `ls -alt`: `t` sorts by recency\n",
    "2. Create a function: `mcd () { ... }`, then `source mcd.sh`, then run\n",
    "3. See `examine.sh` examining program `error_prone.sh`\n",
    "4. `find . -name \"*.html\" | xargs -d \"\\n\" tar czf ./target.tar.gz   `"
   ]
  },
  {
   "cell_type": "markdown",
   "metadata": {},
   "source": [
    "# Lecture 3 Vim, 7/9/2024\n",
    "\n",
    "- Installed PowerToys and changed keyboard binding of Esc functionality to CapsLock, and vice versa.\n",
    "- Downloaded Vimium\n",
    "- Finished Vimium tutorial"
   ]
  },
  {
   "cell_type": "markdown",
   "metadata": {},
   "source": [
    "# Lecture 4 Data Wrangling, 7/9/2024"
   ]
  },
  {
   "cell_type": "markdown",
   "metadata": {
    "vscode": {
     "languageId": "plaintext"
    }
   },
   "source": [
    "# Lecture 5 Command-Line Environment, 7/10\n",
    "- Change editor-terminal keybindings in `AppData/Roaming/Code/User/keybindings.json` to respond to ^Up and ^Down\n",
    "- Put dotfiles into a `.dotfiles` folder and created symbolic links to them\n",
    "- Also created convenience aliases for Python/conda/pip and navigating directories"
   ]
  },
  {
   "cell_type": "markdown",
   "metadata": {
    "vscode": {
     "languageId": "plaintext"
    }
   },
   "source": [
    "# Lecture 6, Git 7/11\n",
    "\n",
    "- `git rebase`: bugFix branch is checked out; `git rebase main` puts bugFix as a child of main\n",
    "- `git cherry-pick`: main is checked out; `git cherry-pick C2 C4` puts those two commits below main\n",
    "- `git branch -f main main~1` to move `main` one commit back; `git checkout HEAD~1` to move `HEAD` one back. These methods can also move the commit forward. The last method is `git rebase another main` if `another` follows main linearly. \n",
    "- `git fetch` is essentially a download. It fetches the remote's branches and puts them into the local tree with an `origin/` prefix. `git pull = git fetch ; git merge o/main`. \n",
    "- `git pull --rebase` and `git pull` are equivalent to `git fetch; git rebase o/main` and `git fetch; git merge o/main`\n",
    "- Played the git game: [git game](https://learngitbranching.js.org/)"
   ]
  },
  {
   "cell_type": "markdown",
   "metadata": {},
   "source": [
    "# Lecture 7, 7/11\n",
    "- Played with `pdb`: has the commands `c` (continue), `n` (next), `s` (step), `l` (list), `p` (print), `r` (return), `b` (break), `cl` (clear breaks)"
   ]
  },
  {
   "cell_type": "markdown",
   "metadata": {},
   "source": [
    "# Lecture 8, 7/12\n",
    "\n",
    "```\n",
    "# Copy senior thesis from Overleaf onto local\n",
    "git clone https://git@git.overleaf.com/66440a88748c0c45ef4c5750 senior-thesis-latex\n",
    "# See config file, remote is \"origin\"\n",
    "cat .git/config\n",
    "# change the remote to overleaf\n",
    "git remote help\n",
    "git remote rename origin overleaf\n",
    "\n",
    "# make changes to overleaf ...\n",
    "\n",
    "# will store the credentials the next time you push into a store file\n",
    "# Stored in ~/.git-credentials or ~/git/credentials\n",
    "git config --global credential.helper store\n",
    "\n",
    "git status\n",
    "git add .\n",
    "gc -m \"I made an edit!\"\n",
    "gp overleaf master\n",
    "```"
   ]
  },
  {
   "cell_type": "code",
   "execution_count": null,
   "metadata": {
    "vscode": {
     "languageId": "plaintext"
    }
   },
   "outputs": [],
   "source": []
  },
  {
   "cell_type": "markdown",
   "metadata": {},
   "source": [
    "# Lecture 10, 7/11\n",
    "- Windows+left+up etc. to resize windows"
   ]
  },
  {
   "cell_type": "markdown",
   "metadata": {},
   "source": []
  }
 ],
 "metadata": {
  "language_info": {
   "name": "python"
  }
 },
 "nbformat": 4,
 "nbformat_minor": 2
}
